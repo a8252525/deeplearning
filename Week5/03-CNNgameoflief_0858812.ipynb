{
 "cells": [
  {
   "cell_type": "code",
   "execution_count": 2,
   "metadata": {},
   "outputs": [
    {
     "data": {
      "image/png": "[encoded data removed]",
      "text/plain": [
       "<Figure size 432x288 with 1 Axes>"
      ]
     },
     "metadata": {},
     "output_type": "display_data"
    },
    {
     "data": {
      "image/png": "[encoded data removed]",
      "text/plain": [
       "<Figure size 432x288 with 1 Axes>"
      ]
     },
     "metadata": {},
     "output_type": "display_data"
    }
   ],
   "source": [
    "# 參考：用來生成 Game of Life 的下一個狀態，用來檢查\n",
    "import numpy as np\n",
    "\n",
    "def game(board):\n",
    "    board_pad = np.pad(board, 1, 'constant', constant_values = 0)\n",
    "    # 用比較笨的方式，厲害一點用 http://stackoverflow.com/questions/32660953/numpy-sliding-2d-window-calculations\n",
    "    rtn = np.zeros_like(board)\n",
    "    for i in range(board.shape[0]):\n",
    "        for j in range(board.shape[1]):\n",
    "            alive = board[i, j]\n",
    "            neighbord_count = board_pad[i:i+3, j:j+3].sum() - alive\n",
    "            if (alive and neighbord_count == 2) or neighbord_count==3:\n",
    "                rtn[i,j] = 1\n",
    "    return rtn\n",
    "# 隨機生成一個盤面\n",
    "\n",
    "board = np.random.randint(0,2, size=(10,10))\n",
    "# 畫出來看看\n",
    "%matplotlib inline\n",
    "import matplotlib.pyplot as plt\n",
    "plt.figure(0)\n",
    "plt.imshow(board)\n",
    "\n",
    "# 跑出下一個盤面\n",
    "board_after = game(board)\n",
    "# 畫出來看看\n",
    "plt.figure(1)\n",
    "plt.imshow(board_after);\n"
   ]
  },
  {
   "cell_type": "code",
   "execution_count": 3,
   "metadata": {
    "scrolled": true
   },
   "outputs": [
    {
     "name": "stderr",
     "output_type": "stream",
     "text": [
      "E:\\Program Files (x86)\\Microsoft Visual Studio\\Shared\\Anaconda3_64\\lib\\site-packages\\h5py\\__init__.py:36: FutureWarning: Conversion of the second argument of issubdtype from `float` to `np.floating` is deprecated. In future, it will be treated as `np.float64 == np.dtype(float).type`.\n",
      "  from ._conv import register_converters as _register_converters\n"
     ]
    },
    {
     "name": "stdout",
     "output_type": "stream",
     "text": [
      "OK 0\n",
      "OK 1\n",
      "OK 2\n",
      "OK 3\n",
      "OK 4\n",
      "OK 5\n",
      "OK 6\n",
      "OK 7\n",
      "OK 8\n",
      "OK 9\n"
     ]
    }
   ],
   "source": [
    "import numpy as np\n",
    "\n",
    "from tensorflow.keras.models import Model\n",
    "from tensorflow.keras.layers import Conv2D, Input\n",
    "\n",
    "# 權重\n",
    "def W1(size,dtype,partition_info):    \n",
    "    rtn =np.array([\n",
    "    [[[1, -1]], [[1, -1]], [[1, -1]]],\n",
    "    [[[1, -1]], [[0, -1]], [[1, -1]]],\n",
    "    [[[1, -1]], [[1, -1]], [[1, -1]]]\n",
    "    ])\n",
    "    return rtn\n",
    "\n",
    "def b1(size,dtype,partition_info):    \n",
    "    return np.array([-3,3])\n",
    "\n",
    "def W2(size,dtype,partition_info):\n",
    "    return np.array(np.array([[[[-1], [-1]]]]))\n",
    "\n",
    "def b2(size,dtype,partition_info):\n",
    "    # just to be safe\n",
    "    return np.array([1])\n",
    "\n",
    "inputs = Input(shape=(None,None,1))\n",
    "hidden = Conv2D(filters=2, kernel_size=3, padding='same', activation=\"relu\",\n",
    "             kernel_initializer=W1, bias_initializer=b1)(inputs)\n",
    "out = Conv2D(filters=1, kernel_size=1, padding='same', activation=\"relu\",\n",
    "             kernel_initializer=W2, bias_initializer=b2)(hidden)\n",
    "model = Model(inputs, out)\n",
    "\n",
    "N = 10\n",
    "boards = np.random.randint(0,2, size=(N,100,100))\n",
    "rtn = model.predict(boards[..., None])\n",
    "rtn = (rtn>0).astype('int')\n",
    "for i in range(N):\n",
    "    b = game(boards[i])\n",
    "    assert (b == rtn[i, :, :, 0]).all()\n",
    "    print(\"OK\", i)"
   ]
  },
  {
   "cell_type": "code",
   "execution_count": 4,
   "metadata": {},
   "outputs": [
    {
     "data": {
      "application/vnd.jupyter.widget-view+json": {
       "model_id": "4e86e7afecb64728aecd55e655c4525c",
       "version_major": 2,
       "version_minor": 0
      },
      "text/plain": [
       "Image(value=b'', width='400')"
      ]
     },
     "metadata": {},
     "output_type": "display_data"
    }
   ],
   "source": [
    "# 或者用動畫跑跑看 需要 pillow, ipywidgets\n",
    "# 定義一個動畫的函數\n",
    "from IPython.display import display\n",
    "from ipywidgets import Image as Image_widget\n",
    "import time\n",
    "from PIL import Image\n",
    "def anim(func, time_length, interval=0.1, width=400):\n",
    "    img = Image_widget(width=width)\n",
    "    display(img)\n",
    "    start_time = time.time()\n",
    "    for t in np.arange(0, time_length, interval):\n",
    "        frame = Image.fromarray((func(t)*255).astype('uint8'))\n",
    "        img.value = frame._repr_png_()\n",
    "        now = time.time()\n",
    "        if now < start_time+t:\n",
    "            time.sleep(start_time+t-now)\n",
    "\n",
    "# 下面跑 Game of Life 的動畫\n",
    "board = np.random.randint(0,2, size=(100,100))\n",
    "def glife(t):\n",
    "    if t>0:\n",
    "        board[...] = game(board)\n",
    "    return board\n",
    "# 一分鐘\n",
    "anim(glife, 60)"
   ]
  },
  {
   "cell_type": "code",
   "execution_count": null,
   "metadata": {},
   "outputs": [],
   "source": []
  }
 ],
 "metadata": {
  "kernelspec": {
   "display_name": "Python 3",
   "language": "python",
   "name": "python3"
  },
  "language_info": {
   "codemirror_mode": {
    "name": "ipython",
    "version": 3
   },
   "file_extension": ".py",
   "mimetype": "text/x-python",
   "name": "python",
   "nbconvert_exporter": "python",
   "pygments_lexer": "ipython3",
   "version": "3.6.5"
  },
  "widgets": {
   "state": {
    "4057783c8281419a939500add1a91216": {
     "views": [
      {
       "cell_index": 3
      }
     ]
    }
   },
   "version": "1.2.0"
  }
 },
 "nbformat": 4,
 "nbformat_minor": 2
}
