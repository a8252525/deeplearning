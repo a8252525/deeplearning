{
 "cells": [
  {
   "cell_type": "code",
   "execution_count": null,
   "metadata": {},
   "outputs": [],
   "source": [
    "# -*- coding: utf-8 -*-\n",
    "\"\"\"\n",
    "Created on Mon Sep 16 13:40:34 2019\n",
    "\n",
    "@author: ideapad 320\n",
    "\"\"\"\n",
    "import numpy as np\n",
    "import os\n",
    "import urllib\n",
    "from urllib.request import urlretrieve \n",
    "print('正在下載')\n",
    "dataset = 'mnist.pkl.gz'\n",
    "if not os.path.isfile(dataset):\n",
    "        origin = \"https://github.com/mnielsen/neural-networks-and-deep-learning/raw/master/data/mnist.pkl.gz\"\n",
    "        print('Downloading data from %s' % origin)\n",
    "        urlretrieve(origin, dataset)\n",
    "# 下載完了\n",
    "import gzip #用來處理壓縮檔\n",
    "import pickle #\n",
    "with gzip.open(dataset, 'rb') as f:#gzip.open來打開壓縮檔\n",
    "    train_set, validation_set, test_set = pickle.load(f, encoding='latin1')\n",
    "#run -i q_see_mnist_data.py 這行是另外的.py，跑在console，可以看到裡面的[0]是圖片用浮點數形式，[1]是他的答案\n",
    "# 確認完資料\n",
    "train_X, train_y = train_set\n",
    "test_X, test_y = test_set\n",
    "train_y[:20]#就是剛剛的train_set[1]的部分\n",
    "\n",
    "#完成下載，並放到train_X,test_X中\n",
    "print('Running...')\n",
    "\n",
    "train_X  = train_X / np.linalg.norm(train_X, axis=1, keepdims=True)\n",
    "test_X  = test_X / np.linalg.norm(test_X, axis=1, keepdims=True)\n",
    "A = test_X @ train_X.T\n",
    "#做出cos similarity\n",
    "\n",
    "predict=train_y[A.argmax(axis=1)]\n",
    "count=0\n",
    "for i,j in enumerate(predict):\n",
    "    if j==test_y[i]:\n",
    "        count+=1\n",
    "print('準確率:{}'.format(count/len(predict)))"
   ]
  }
 ],
 "metadata": {
  "kernelspec": {
   "display_name": "Python 3",
   "language": "python",
   "name": "python3"
  },
  "language_info": {
   "codemirror_mode": {
    "name": "ipython",
    "version": 3
   },
   "file_extension": ".py",
   "mimetype": "text/x-python",
   "name": "python",
   "nbconvert_exporter": "python",
   "pygments_lexer": "ipython3",
   "version": "3.6.5"
  }
 },
 "nbformat": 4,
 "nbformat_minor": 2
}
