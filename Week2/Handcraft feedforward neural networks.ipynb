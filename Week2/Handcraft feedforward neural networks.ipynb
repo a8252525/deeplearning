{
 "cells": [
  {
   "cell_type": "code",
   "execution_count": 1,
   "metadata": {},
   "outputs": [
    {
     "name": "stdout",
     "output_type": "stream",
     "text": [
      "Mod4 accuracy:1.0\n",
      "Mod3 accuracy:0.6875\n",
      "Tic Tac Toe accuracy:0.9\n"
     ]
    }
   ],
   "source": [
    "# -*- coding: utf-8 -*-\n",
    "\"\"\"\n",
    "Created on Mon Sep 16 14:32:53 2019\n",
    "\n",
    "@author: ideapad 320\n",
    "\"\"\"\n",
    "import numpy as np\n",
    "def softmax(x):\n",
    "    t=np.exp(x)\n",
    "    return t/t.sum()\n",
    "def relu(x):\n",
    "    return np.maximum(x, 0)\n",
    "\n",
    "#mod4\n",
    "mod4count=0\n",
    "W=np.array([[-1,-1,0,0],[2,-1,-1,-1],[-1,2,-1,-1],[1,1,-1,-1]])\n",
    "b=np.array([0,0,0,0])\n",
    "for i in range(16):\n",
    "    x=np.array([i%2, (i>>1)%2, (i>>2)%2, (i>>3)%2])\n",
    "    ans=W@x+b\n",
    "    if ans.argmax()==i%4:\n",
    "        mod4count+=1\n",
    "print('Mod4 accuracy:{}'.format(mod4count/16))\n",
    "\n",
    "#-------------------------------------------\n",
    "\n",
    "mod3count=0\n",
    "W=np.array([[0,0,0,0], [1,-1,1,-1],[-1,1,-1,1],[0,3,0,3],[3,0,0,3],])\n",
    "b=np.array([0.5,0,0,-5,-5])\n",
    "W2=np.array([[1,0,0,0,0], \n",
    "           [0,1,0,1,0], \n",
    "           [0,0,1,0,1],\n",
    "          ])\n",
    "b2=np.array([0,0,0])\n",
    "for i in range(16):\n",
    "    x=np.array([i%2, (i>>1)%2, (i>>2)%2, (i>>3)%2])\n",
    "    ans=softmax(W2@(relu(W@x+b))+b2)\n",
    "    if ans.argmax()==i%3:\n",
    "        mod3count+=1\n",
    "print('Mod3 accuracy:{}'.format(mod3count/16))\n",
    "\n",
    "\n",
    "#---------------------\n",
    "count=0\n",
    "A=np.array([[1,1,1,0,0,0,0,0,0],[0,0,0,1,1,1,0,0,0],[0,0,0,0,0,0,1,1,1],[1,0,0,1,0,0,1,0,0],\n",
    "              [0,1,0,0,1,0,0,1,0],[0,0,1,0,0,1,0,0,1],[1,0,0,0,1,0,0,0,1],[0,0,1,0,1,0,1,0,0]])\n",
    "b=np.array([-2,-2,-2,-2,-2,-2,-2,-2])\n",
    "C=np.array([[-1,-1,-1,-1,-1,-1,-1,-1],[1,1,1,1,1,1,1,1]])\n",
    "d=np.array([0, 0])\n",
    "for i in range(10):\n",
    "    table = np.random.randint(0,2, size=(3,3))\n",
    "\n",
    "#    for i in table:\n",
    "#\n",
    "#        temp=''\n",
    "#        for j in i:\n",
    "#            if j==1:\n",
    "#                temp+='X'\n",
    "#            else:\n",
    "#                temp+='_'\n",
    "#        print('{}\\n'.format(temp))\n",
    "#   老師的寫法: print( \"\\n\".join(\"\".join(\"_X\"[k] for k in  board[j]) for j in range(3))) 簡潔好看\n",
    "\n",
    "    if (table.all(axis=0)).any() or (table.all(axis=1)).any() or table[::3].all() or table[2::2].all():\n",
    "        ans=1\n",
    "    else:\n",
    "        ans=0\n",
    "    x=np.array(table.flatten())\n",
    "    q=softmax(C@relu(A@x+b)+d)\n",
    "    if q.argmax()==ans:\n",
    "        count+=1\n",
    "    #print(\"q={}\\n\".format(q.argmax()))\n",
    "print('Tic Tac Toe accuracy:{}'.format(count/10))\n",
    "\n"
   ]
  },
  {
   "cell_type": "code",
   "execution_count": null,
   "metadata": {},
   "outputs": [],
   "source": []
  }
 ],
 "metadata": {
  "kernelspec": {
   "display_name": "Python 3",
   "language": "python",
   "name": "python3"
  },
  "language_info": {
   "codemirror_mode": {
    "name": "ipython",
    "version": 3
   },
   "file_extension": ".py",
   "mimetype": "text/x-python",
   "name": "python",
   "nbconvert_exporter": "python",
   "pygments_lexer": "ipython3",
   "version": "3.6.5"
  }
 },
 "nbformat": 4,
 "nbformat_minor": 2
}
