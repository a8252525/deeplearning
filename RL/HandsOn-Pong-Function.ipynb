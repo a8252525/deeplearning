{
 "cells": [
  {
   "cell_type": "code",
   "execution_count": null,
   "metadata": {
    "collapsed": true,
    "jupyter": {
     "outputs_hidden": true
    }
   },
   "outputs": [],
   "source": [
    "# 需要先安裝 gym[atari]\n",
    "# headless 執行: xvfb-run -a jupyter notebook\n",
    "import gym"
   ]
  },
  {
   "cell_type": "code",
   "execution_count": null,
   "metadata": {
    "collapsed": true,
    "jupyter": {
     "outputs_hidden": true
    }
   },
   "outputs": [],
   "source": [
    "env = gym.make('Pong-ram-v0')"
   ]
  },
  {
   "cell_type": "code",
   "execution_count": null,
   "metadata": {
    "collapsed": true,
    "jupyter": {
     "outputs_hidden": true
    }
   },
   "outputs": [],
   "source": [
    "import numpy as np\n",
    "import ipywidgets as W\n",
    "from PIL import Image\n",
    "from io import BytesIO\n",
    "def to_png(a):\n",
    "    with BytesIO() as bio:\n",
    "        Image.fromarray(a).save(bio, 'png')\n",
    "        return bio.getvalue()"
   ]
  },
  {
   "cell_type": "markdown",
   "metadata": {},
   "source": [
    "Q learning 的骨架\n",
    "\n",
    "* 用 `compute_s(observation)` 來計算 state\n",
    "* 用 `Qupdate(s, a, v)` 來 update `Q(s,a)`\n",
    "* 用 `Qfunc(s)` 來算 `Q(s, ...)`\n"
   ]
  },
  {
   "cell_type": "code",
   "execution_count": null,
   "metadata": {
    "collapsed": true,
    "jupyter": {
     "outputs_hidden": true
    }
   },
   "outputs": [],
   "source": [
    "from time import sleep\n",
    "from random import randint, random, shuffle, choice\n",
    "actions = [0,2,3]\n",
    "\n",
    "def Qlearn(test=False, screen=None, T=40):\n",
    "    observation = env.reset()\n",
    "    for i in range(50):\n",
    "        observation, reward, done, info =env.step(choice(actions))\n",
    "    s2 = compute_s(observation)\n",
    "    total_r = 0\n",
    "    for i in range(T):\n",
    "        s = s2\n",
    "        if not test and random()< ϵ:\n",
    "            a = choice(actions)\n",
    "        elif s is None:\n",
    "            a = choice(actions)\n",
    "        else:\n",
    "            a = actions[np.argmax(Qfunc(s))]\n",
    "        observation, reward, done, info = env.step(a)        \n",
    "        s2 = compute_s(observation)\n",
    "        r = reward\n",
    "        total_r+=r\n",
    "        if not test and s is not None:\n",
    "            if s2 is None:\n",
    "                r=1.\n",
    "            if r:\n",
    "                v = r\n",
    "            else:\n",
    "                v = γ*Qfunc(s2).max()\n",
    "            a = max(0, a-1)\n",
    "            Qupdate(s, a, v)\n",
    "        if screen is not None:\n",
    "            img = env.render(mode='rgb_array')\n",
    "            screen.value = to_png(img)\n",
    "            sleep(1/60)\n",
    "    return total_r"
   ]
  },
  {
   "cell_type": "markdown",
   "metadata": {},
   "source": [
    "最簡單的是把整個 observation 當成 state，但是很慢"
   ]
  },
  {
   "cell_type": "code",
   "execution_count": null,
   "metadata": {
    "collapsed": true,
    "jupyter": {
     "outputs_hidden": true
    }
   },
   "outputs": [],
   "source": [
    "# XXXXX \n",
    "# 定義你的 compute_s, Qfunc, Qupdate"
   ]
  },
  {
   "cell_type": "code",
   "execution_count": null,
   "metadata": {
    "collapsed": true,
    "jupyter": {
     "outputs_hidden": true
    }
   },
   "outputs": [],
   "source": [
    "%matplotlib inline\n",
    "from matplotlib import pyplot as plt"
   ]
  },
  {
   "cell_type": "code",
   "execution_count": null,
   "metadata": {
    "collapsed": true,
    "jupyter": {
     "outputs_hidden": true
    }
   },
   "outputs": [],
   "source": [
    "# 寫一個訓練迴圈\n",
    "# XXXXXXXX"
   ]
  }
 ],
 "metadata": {
  "kernelspec": {
   "display_name": "Python 3",
   "language": "python",
   "name": "python3"
  },
  "language_info": {
   "codemirror_mode": {
    "name": "ipython",
    "version": 3
   },
   "file_extension": ".py",
   "mimetype": "text/x-python",
   "name": "python",
   "nbconvert_exporter": "python",
   "pygments_lexer": "ipython3",
   "version": "3.6.7"
  }
 },
 "nbformat": 4,
 "nbformat_minor": 4
}
