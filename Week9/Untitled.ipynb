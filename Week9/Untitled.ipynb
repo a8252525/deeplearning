{
 "cells": [
  {
   "cell_type": "code",
   "execution_count": 1,
   "metadata": {},
   "outputs": [],
   "source": [
    "from __future__ import absolute_import, division, print_function, unicode_literals\n",
    "\n",
    "import tensorflow_datasets as tfds\n",
    "import tensorflow as tf"
   ]
  },
  {
   "cell_type": "code",
   "execution_count": 2,
   "metadata": {},
   "outputs": [],
   "source": [
    "import matplotlib.pyplot as plt\n",
    "\n",
    "def plot_graphs(history, string):\n",
    "  plt.plot(history.history[string])\n",
    "  plt.plot(history.history['val_'+string], '')\n",
    "  plt.xlabel(\"Epochs\")\n",
    "  plt.ylabel(string)\n",
    "  plt.legend([string, 'val_'+string])\n",
    "  plt.show()"
   ]
  },
  {
   "cell_type": "code",
   "execution_count": 4,
   "metadata": {},
   "outputs": [],
   "source": [
    "dataset, info = tfds.load('imdb_reviews/subwords8k', with_info=True,\n",
    "                          as_supervised=True, shuffle_files=True)\n",
    "train_dataset, test_dataset = dataset['train'], dataset['test']"
   ]
  },
  {
   "cell_type": "code",
   "execution_count": 7,
   "metadata": {},
   "outputs": [
    {
     "name": "stdout",
     "output_type": "stream",
     "text": [
      "<class 'tensorflow.python.data.ops.dataset_ops._OptionsDataset'>\n"
     ]
    }
   ],
   "source": [
    "print(type(train_dataset))"
   ]
  },
  {
   "cell_type": "code",
   "execution_count": 10,
   "metadata": {},
   "outputs": [],
   "source": [
    "encoder = info.features['text'].encoder"
   ]
  },
  {
   "cell_type": "code",
   "execution_count": 21,
   "metadata": {},
   "outputs": [
    {
     "name": "stdout",
     "output_type": "stream",
     "text": [
      "<class 'tensorflow.python.data.ops.dataset_ops._OptionsDataset'>\n"
     ]
    }
   ],
   "source": [
    "print(type(train_dataset))"
   ]
  },
  {
   "cell_type": "code",
   "execution_count": 28,
   "metadata": {},
   "outputs": [
    {
     "name": "stdout",
     "output_type": "stream",
     "text": [
      "tf.Tensor(\n",
      "[ 768   99  416    9  733    1  626    6  467  159   33  788   53   29\n",
      " 1224    3  156  155 1234 2492   14   32  151 7968   40  193   31  303\n",
      " 7976   59 4159  104    3   12  258 2674  551 5557   40   44  113   55\n",
      "  143  121   83   35 1151   11  195   13  746   61   55  300    3 3075\n",
      " 8044   38   66   54    9    4  355  811   23 1406 6481 7961 1060 6786\n",
      "  409 3570 7411 3743 2314 7998 8005 1782    3   19  953    9 5922 8029\n",
      "    3   12  207 7968   21  582   72 8002 7968  123  853  178  132 1527\n",
      "    3   19 1575   29 1288 2847 2742 8029    3   19  188    9  715 7974\n",
      " 7753   26  144    1  263   85   33  479  892    3 1566 1380    7 1929\n",
      " 4887 7961 3760   47 4584  204   88  183  800 1160    5   42    9 6396\n",
      "   20 1838   24   10   16   10   17   19  349  233    9    1 5845  432\n",
      "    6   15  208    3   69    9   20   75    1 1876  574   61    6   79\n",
      "  141    7  115   15   51   20  785   20 3374    3 1976 1515 7968    8\n",
      "  171   29 7463  104    2 5114    5  569    6 2203   95  185   52 5374\n",
      "  376  231    5  789   47 7514   11 2246  714    2 7779   49 1709 1877\n",
      "    4    5   19 3583 3599 7961    7 1302  146    6    1 1871    3  128\n",
      "   11    1 2674  194 3754  100 7974  267    6  405   68   29 1966 5928\n",
      "  291    7 2862  488   52 2048  858  700 1532   28 1551    2  142 7968\n",
      "    8  638  152    1 2246 2968  739  251   19 3712 1183  830 1379 5368\n",
      "   47    5 1889 7974 4038   34 4636   52 3653 6991   34 4491 8029 7975], shape=(280,), dtype=int64) \n",
      " tf.Tensor(\n",
      "[ 768   99  416    9  733    1  626    6  467  159   33  788   53   29\n",
      " 1224    3  156  155 1234 2492   14   32  151 7968   40  193   31  303\n",
      " 7976   59 4159  104    3   12  258 2674  551 5557   40   44  113   55\n",
      "  143  121   83   35 1151   11  195   13  746   61   55  300    3 3075\n",
      " 8044   38   66   54    9    4  355  811   23 1406 6481 7961 1060 6786\n",
      "  409 3570 7411 3743 2314 7998 8005 1782    3   19  953    9 5922 8029\n",
      "    3   12  207 7968   21  582   72 8002 7968  123  853  178  132 1527\n",
      "    3   19 1575   29 1288 2847 2742 8029    3   19  188    9  715 7974\n",
      " 7753   26  144    1  263   85   33  479  892    3 1566 1380    7 1929\n",
      " 4887 7961 3760   47 4584  204   88  183  800 1160    5   42    9 6396\n",
      "   20 1838   24   10   16   10   17   19  349  233    9    1 5845  432\n",
      "    6   15  208    3   69    9   20   75    1 1876  574   61    6   79\n",
      "  141    7  115   15   51   20  785   20 3374    3 1976 1515 7968    8\n",
      "  171   29 7463  104    2 5114    5  569    6 2203   95  185   52 5374\n",
      "  376  231    5  789   47 7514   11 2246  714    2 7779   49 1709 1877\n",
      "    4    5   19 3583 3599 7961    7 1302  146    6    1 1871    3  128\n",
      "   11    1 2674  194 3754  100 7974  267    6  405   68   29 1966 5928\n",
      "  291    7 2862  488   52 2048  858  700 1532   28 1551    2  142 7968\n",
      "    8  638  152    1 2246 2968  739  251   19 3712 1183  830 1379 5368\n",
      "   47    5 1889 7974 4038   34 4636   52 3653 6991   34 4491 8029 7975], shape=(280,), dtype=int64)\n"
     ]
    }
   ],
   "source": [
    "train_dataset_iter = train_dataset.__iter__()\n",
    "next_element = train_dataset_iter.get_next()\n",
    "test1 = next_element[0]\n",
    "test2 = next_element[0]\n",
    "print(test1,'\\n', test2)"
   ]
  },
  {
   "cell_type": "code",
   "execution_count": 33,
   "metadata": {},
   "outputs": [
    {
     "ename": "TypeError",
     "evalue": "object of type 'IteratorV2' has no len()",
     "output_type": "error",
     "traceback": [
      "\u001b[0;31m---------------------------------------------------------------------------\u001b[0m",
      "\u001b[0;31mTypeError\u001b[0m                                 Traceback (most recent call last)",
      "\u001b[0;32m<ipython-input-33-99dd609d585d>\u001b[0m in \u001b[0;36m<module>\u001b[0;34m\u001b[0m\n\u001b[0;32m----> 1\u001b[0;31m \u001b[0mprint\u001b[0m\u001b[0;34m(\u001b[0m\u001b[0mencoder\u001b[0m\u001b[0;34m.\u001b[0m\u001b[0mdecode\u001b[0m\u001b[0;34m(\u001b[0m\u001b[0mtrain_dataset_iter\u001b[0m\u001b[0;34m)\u001b[0m\u001b[0;34m)\u001b[0m\u001b[0;34m\u001b[0m\u001b[0;34m\u001b[0m\u001b[0m\n\u001b[0m",
      "\u001b[0;32m/opt/conda/lib/python3.6/site-packages/tensorflow_datasets/core/features/text/subword_text_encoder.py\u001b[0m in \u001b[0;36mdecode\u001b[0;34m(self, ids)\u001b[0m\n\u001b[1;32m     90\u001b[0m   \u001b[0;32mdef\u001b[0m \u001b[0mdecode\u001b[0m\u001b[0;34m(\u001b[0m\u001b[0mself\u001b[0m\u001b[0;34m,\u001b[0m \u001b[0mids\u001b[0m\u001b[0;34m)\u001b[0m\u001b[0;34m:\u001b[0m\u001b[0;34m\u001b[0m\u001b[0;34m\u001b[0m\u001b[0m\n\u001b[1;32m     91\u001b[0m     \u001b[0;34m\"\"\"Decodes a list of integers into text.\"\"\"\u001b[0m\u001b[0;34m\u001b[0m\u001b[0;34m\u001b[0m\u001b[0m\n\u001b[0;32m---> 92\u001b[0;31m     \u001b[0mids\u001b[0m \u001b[0;34m=\u001b[0m \u001b[0mtext_encoder\u001b[0m\u001b[0;34m.\u001b[0m\u001b[0mpad_decr\u001b[0m\u001b[0;34m(\u001b[0m\u001b[0mids\u001b[0m\u001b[0;34m)\u001b[0m\u001b[0;34m\u001b[0m\u001b[0;34m\u001b[0m\u001b[0m\n\u001b[0m\u001b[1;32m     93\u001b[0m     \u001b[0msubword_ids\u001b[0m \u001b[0;34m=\u001b[0m \u001b[0mids\u001b[0m\u001b[0;34m\u001b[0m\u001b[0;34m\u001b[0m\u001b[0m\n\u001b[1;32m     94\u001b[0m     \u001b[0;32mdel\u001b[0m \u001b[0mids\u001b[0m\u001b[0;34m\u001b[0m\u001b[0;34m\u001b[0m\u001b[0m\n",
      "\u001b[0;32m/opt/conda/lib/python3.6/site-packages/tensorflow_datasets/core/features/text/text_encoder.py\u001b[0m in \u001b[0;36mpad_decr\u001b[0;34m(ids)\u001b[0m\n\u001b[1;32m    437\u001b[0m \u001b[0;32mdef\u001b[0m \u001b[0mpad_decr\u001b[0m\u001b[0;34m(\u001b[0m\u001b[0mids\u001b[0m\u001b[0;34m)\u001b[0m\u001b[0;34m:\u001b[0m\u001b[0;34m\u001b[0m\u001b[0;34m\u001b[0m\u001b[0m\n\u001b[1;32m    438\u001b[0m   \u001b[0;34m\"\"\"Strip ID 0 and decrement ids by 1.\"\"\"\u001b[0m\u001b[0;34m\u001b[0m\u001b[0;34m\u001b[0m\u001b[0m\n\u001b[0;32m--> 439\u001b[0;31m   \u001b[0;32mif\u001b[0m \u001b[0mlen\u001b[0m\u001b[0;34m(\u001b[0m\u001b[0mids\u001b[0m\u001b[0;34m)\u001b[0m \u001b[0;34m<\u001b[0m \u001b[0;36m1\u001b[0m\u001b[0;34m:\u001b[0m\u001b[0;34m\u001b[0m\u001b[0;34m\u001b[0m\u001b[0m\n\u001b[0m\u001b[1;32m    440\u001b[0m     \u001b[0;32mreturn\u001b[0m \u001b[0mlist\u001b[0m\u001b[0;34m(\u001b[0m\u001b[0mids\u001b[0m\u001b[0;34m)\u001b[0m\u001b[0;34m\u001b[0m\u001b[0;34m\u001b[0m\u001b[0m\n\u001b[1;32m    441\u001b[0m   \u001b[0;32mif\u001b[0m \u001b[0;32mnot\u001b[0m \u001b[0many\u001b[0m\u001b[0;34m(\u001b[0m\u001b[0mids\u001b[0m\u001b[0;34m)\u001b[0m\u001b[0;34m:\u001b[0m\u001b[0;34m\u001b[0m\u001b[0;34m\u001b[0m\u001b[0m\n",
      "\u001b[0;31mTypeError\u001b[0m: object of type 'IteratorV2' has no len()"
     ]
    }
   ],
   "source": [
    "print(encoder.decode(train_dataset_iter))"
   ]
  },
  {
   "cell_type": "code",
   "execution_count": null,
   "metadata": {},
   "outputs": [],
   "source": []
  }
 ],
 "metadata": {
  "kernelspec": {
   "display_name": "Python 3",
   "language": "python",
   "name": "python3"
  },
  "language_info": {
   "codemirror_mode": {
    "name": "ipython",
    "version": 3
   },
   "file_extension": ".py",
   "mimetype": "text/x-python",
   "name": "python",
   "nbconvert_exporter": "python",
   "pygments_lexer": "ipython3",
   "version": "3.6.7"
  }
 },
 "nbformat": 4,
 "nbformat_minor": 4
}
