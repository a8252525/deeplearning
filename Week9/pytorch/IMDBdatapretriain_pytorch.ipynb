{
 "cells": [
  {
   "cell_type": "code",
   "execution_count": 5,
   "metadata": {},
   "outputs": [],
   "source": [
    "import torch\n",
    "from torchtext import data\n",
    "from torchtext import datasets\n",
    "from torchtext.vocab import GloVe\n",
    "from torch import nn\n",
    "import spacy\n",
    "import numpy as np"
   ]
  },
  {
   "cell_type": "code",
   "execution_count": 7,
   "metadata": {},
   "outputs": [],
   "source": [
    "spacy_en = spacy.load('en')\n",
    "\n",
    "def tokenizer(text): # create a tokenizer function\n",
    "    return [tok.text for tok in spacy_en.tokenizer(text)]"
   ]
  },
  {
   "cell_type": "code",
   "execution_count": 8,
   "metadata": {},
   "outputs": [],
   "source": [
    "device = torch.device('cuda:0' if torch.cuda.is_available() else 'cpu')"
   ]
  },
  {
   "cell_type": "code",
   "execution_count": 9,
   "metadata": {},
   "outputs": [],
   "source": [
    "TEXT = data.Field(sequential=True, tokenize=tokenizer, lower=True, fix_length=150)\n",
    "LABEL = data.Field(sequential=False, use_vocab=True)"
   ]
  },
  {
   "cell_type": "code",
   "execution_count": 10,
   "metadata": {},
   "outputs": [],
   "source": [
    "pos = data.TabularDataset(\n",
    "    path='./IMDB Dataset.csv', format='csv',skip_header = True,\n",
    "    fields=[('text', TEXT),\n",
    "        ('labels', LABEL)])"
   ]
  },
  {
   "cell_type": "code",
   "execution_count": 11,
   "metadata": {},
   "outputs": [],
   "source": [
    "TEXT.build_vocab(pos, vectors=GloVe(name='6B', dim=300))\n",
    "LABEL.build_vocab(pos)"
   ]
  },
  {
   "cell_type": "code",
   "execution_count": 12,
   "metadata": {},
   "outputs": [
    {
     "name": "stdout",
     "output_type": "stream",
     "text": [
      "50000\n"
     ]
    }
   ],
   "source": [
    "print(len(pos))"
   ]
  },
  {
   "cell_type": "code",
   "execution_count": 13,
   "metadata": {},
   "outputs": [],
   "source": [
    "train_iter = data.BucketIterator(pos,batch_size=500, shuffle = True)"
   ]
  },
  {
   "cell_type": "code",
   "execution_count": 14,
   "metadata": {},
   "outputs": [
    {
     "name": "stdout",
     "output_type": "stream",
     "text": [
      "<class 'torchtext.data.iterator.BucketIterator'>\n"
     ]
    }
   ],
   "source": [
    "print(type(train_iter))"
   ]
  },
  {
   "cell_type": "code",
   "execution_count": 15,
   "metadata": {},
   "outputs": [
    {
     "name": "stdout",
     "output_type": "stream",
     "text": [
      "\n",
      "[torchtext.data.batch.Batch of size 500]\n",
      "\t[.text]:[torch.LongTensor of size 150x500]\n",
      "\t[.labels]:[torch.LongTensor of size 500]\n",
      "tensor([[ 1041,  7030,    13,  ..., 29125,   746,    13],\n",
      "        [ 1785,    16,    23,  ..., 12553,    92,     9],\n",
      "        [   66,   102,     9,  ...,     3,  1258,     6],\n",
      "        ...,\n",
      "        [  143,    22,     1,  ..., 35464,     2,    41],\n",
      "        [29738,  3416,     1,  ...,   231, 10677,  3546],\n",
      "        [   87,     5,     1,  ...,  8191,     4,   897]])\n",
      "tensor([2, 2, 2, 1, 2, 1, 2, 2, 1, 2, 2, 2, 2, 1, 2, 1, 1, 1, 1, 2, 1, 1, 1, 1,\n",
      "        2, 1, 1, 1, 1, 2, 2, 1, 1, 2, 2, 2, 1, 2, 1, 1, 2, 2, 1, 1, 2, 1, 1, 1,\n",
      "        2, 2, 1, 2, 2, 2, 2, 2, 1, 2, 2, 2, 1, 2, 1, 2, 1, 2, 2, 2, 2, 2, 1, 1,\n",
      "        1, 1, 2, 2, 2, 1, 2, 2, 1, 1, 2, 2, 1, 2, 2, 2, 2, 2, 1, 1, 2, 1, 2, 2,\n",
      "        2, 1, 1, 2, 1, 2, 2, 2, 1, 1, 2, 1, 2, 1, 2, 1, 1, 2, 1, 2, 1, 1, 2, 2,\n",
      "        1, 1, 1, 2, 2, 1, 2, 2, 1, 1, 2, 1, 1, 1, 1, 2, 2, 2, 1, 2, 2, 1, 1, 2,\n",
      "        2, 1, 2, 1, 2, 2, 2, 1, 1, 1, 2, 1, 1, 2, 1, 1, 1, 1, 2, 1, 2, 1, 2, 2,\n",
      "        1, 2, 1, 1, 1, 2, 2, 1, 2, 2, 2, 1, 2, 2, 2, 2, 2, 1, 2, 2, 2, 2, 1, 1,\n",
      "        1, 2, 2, 2, 2, 2, 1, 2, 1, 2, 2, 2, 1, 1, 1, 2, 2, 2, 2, 2, 2, 2, 1, 2,\n",
      "        2, 2, 2, 2, 2, 1, 1, 2, 2, 1, 1, 1, 2, 2, 1, 2, 2, 2, 2, 2, 2, 2, 2, 1,\n",
      "        1, 2, 2, 2, 1, 2, 2, 1, 2, 2, 1, 1, 2, 2, 2, 2, 1, 2, 1, 1, 1, 1, 2, 2,\n",
      "        1, 2, 2, 2, 1, 2, 2, 2, 1, 1, 2, 2, 2, 1, 1, 2, 1, 2, 1, 1, 1, 2, 1, 1,\n",
      "        2, 1, 2, 1, 2, 1, 2, 1, 2, 2, 1, 1, 1, 1, 1, 2, 1, 2, 1, 1, 1, 2, 1, 1,\n",
      "        1, 1, 1, 1, 2, 2, 1, 1, 1, 1, 1, 1, 1, 2, 1, 1, 2, 2, 2, 2, 1, 2, 1, 1,\n",
      "        1, 1, 1, 2, 2, 1, 1, 2, 2, 1, 2, 2, 1, 2, 2, 2, 1, 2, 2, 2, 2, 2, 2, 1,\n",
      "        1, 2, 2, 2, 1, 2, 2, 1, 2, 2, 1, 1, 2, 1, 1, 2, 1, 2, 1, 1, 2, 2, 1, 1,\n",
      "        2, 2, 2, 2, 1, 2, 2, 1, 1, 2, 2, 2, 1, 2, 2, 1, 2, 1, 2, 1, 1, 2, 1, 1,\n",
      "        2, 2, 1, 1, 1, 1, 1, 1, 1, 1, 1, 2, 1, 1, 2, 1, 1, 1, 1, 1, 2, 1, 1, 1,\n",
      "        2, 2, 1, 2, 2, 2, 1, 2, 1, 2, 2, 2, 1, 2, 2, 1, 1, 1, 2, 2, 1, 1, 1, 2,\n",
      "        2, 1, 1, 2, 2, 2, 1, 1, 1, 1, 2, 1, 2, 2, 2, 2, 1, 1, 1, 1, 1, 1, 2, 2,\n",
      "        1, 1, 1, 1, 1, 1, 2, 1, 2, 1, 2, 1, 2, 1, 1, 1, 2, 1, 2, 2])\n",
      "500\n"
     ]
    }
   ],
   "source": [
    "batch = next(iter(train_iter))\n",
    "\n",
    "print((batch))\n",
    "print(batch.text)\n",
    "print(batch.labels)\n",
    "print(len(batch.labels))"
   ]
  },
  {
   "cell_type": "code",
   "execution_count": 16,
   "metadata": {},
   "outputs": [
    {
     "name": "stdout",
     "output_type": "stream",
     "text": [
      "146591\n",
      "torch.Size([146591, 300])\n",
      "Embedding(146591, 300)\n",
      "146591\n",
      "tensor([[ 0.0000,  0.0000,  0.0000,  ...,  0.0000,  0.0000,  0.0000],\n",
      "        [ 0.0000,  0.0000,  0.0000,  ...,  0.0000,  0.0000,  0.0000],\n",
      "        [ 0.0466,  0.2132, -0.0074,  ...,  0.0091, -0.2099,  0.0539],\n",
      "        ...,\n",
      "        [-0.3058,  0.1605, -1.0598,  ..., -0.1416,  0.2696,  0.2385],\n",
      "        [ 0.0000,  0.0000,  0.0000,  ...,  0.0000,  0.0000,  0.0000],\n",
      "        [ 0.0000,  0.0000,  0.0000,  ...,  0.0000,  0.0000,  0.0000]])\n"
     ]
    }
   ],
   "source": [
    "# Embedding layer\n",
    "emb_dim = 300\n",
    "vocab = TEXT.vocab\n",
    "print(len(vocab))\n",
    "embed = nn.Embedding(len(vocab), emb_dim)\n",
    "print(vocab.vectors.shape)\n",
    "print(embed)\n",
    "print(len(vocab.vectors))\n",
    "print(embed.weight.data.copy_(vocab.vectors))"
   ]
  },
  {
   "cell_type": "code",
   "execution_count": 17,
   "metadata": {},
   "outputs": [
    {
     "name": "stdout",
     "output_type": "stream",
     "text": [
      "<class 'torchtext.vocab.Vocab'> 0 <class 'str'>\n"
     ]
    }
   ],
   "source": [
    "print(type(vocab), next(iter(vocab)), type(vocab.itos[0]))"
   ]
  },
  {
   "cell_type": "code",
   "execution_count": 18,
   "metadata": {},
   "outputs": [
    {
     "name": "stdout",
     "output_type": "stream",
     "text": [
      "<class 'torch.nn.modules.sparse.Embedding'> Parameter containing:\n",
      "tensor([[ 0.0000,  0.0000,  0.0000,  ...,  0.0000,  0.0000,  0.0000],\n",
      "        [ 0.0000,  0.0000,  0.0000,  ...,  0.0000,  0.0000,  0.0000],\n",
      "        [ 0.0466,  0.2132, -0.0074,  ...,  0.0091, -0.2099,  0.0539],\n",
      "        ...,\n",
      "        [-0.3058,  0.1605, -1.0598,  ..., -0.1416,  0.2696,  0.2385],\n",
      "        [ 0.0000,  0.0000,  0.0000,  ...,  0.0000,  0.0000,  0.0000],\n",
      "        [ 0.0000,  0.0000,  0.0000,  ...,  0.0000,  0.0000,  0.0000]],\n",
      "       requires_grad=True) 300\n"
     ]
    }
   ],
   "source": [
    "print(type(embed), embed.weight, len(embed.weight[0]))"
   ]
  },
  {
   "cell_type": "code",
   "execution_count": 19,
   "metadata": {},
   "outputs": [
    {
     "name": "stdout",
     "output_type": "stream",
     "text": [
      "<class 'torch.Tensor'> <class 'numpy.ndarray'>\n"
     ]
    }
   ],
   "source": [
    "print(type(embed.weight.data), type(np.array(embed.weight.data)))"
   ]
  },
  {
   "cell_type": "code",
   "execution_count": 20,
   "metadata": {},
   "outputs": [
    {
     "name": "stdout",
     "output_type": "stream",
     "text": [
      "93 39221\n"
     ]
    }
   ],
   "source": [
    "print(vocab['bad'], vocab['shit'])"
   ]
  },
  {
   "cell_type": "code",
   "execution_count": 51,
   "metadata": {},
   "outputs": [],
   "source": [
    "\"\"\"\n",
    "def PCA_svd(X, k, center=True):\n",
    "    n = X.size()[0]\n",
    "    ones = torch.ones(n).view([n,1])\n",
    "    h = ((1/n) * torch.mm(ones, ones.t())) if center  else torch.zeros(n*n).view([n,n])\n",
    "    H = torch.eye(n) - h\n",
    "    X_center =  torch.mm(H.double(), X.double())\n",
    "    u, s, v = torch.svd(X_center) \n",
    "    components  = v[:k].t()\n",
    "    explained_variance = torch.mul(s[:k], s[:k])/(n-1)\n",
    "    return { 'X':X, 'k':k, 'components':components,     \n",
    "            'explained_variance':explained_variance }\n",
    "PCA_svd(embed)\n",
    "\"\"\"\n",
    "from sklearn.manifold import TSNE\n",
    "x_tsne = TSNE(init = 'pca', n_components = 2, random_state=23).fit_transform(embed.weight[:200].detach().squeeze(-1))"
   ]
  },
  {
   "cell_type": "code",
   "execution_count": 52,
   "metadata": {},
   "outputs": [
    {
     "name": "stdout",
     "output_type": "stream",
     "text": [
      "Org data dimension is 300. Embedded data dimension is 2\n"
     ]
    }
   ],
   "source": [
    "print(\"Org data dimension is {}. Embedded data dimension is {}\".format(embed.weight.shape[-1], x_tsne.shape[-1]))\n"
   ]
  },
  {
   "cell_type": "code",
   "execution_count": 53,
   "metadata": {},
   "outputs": [
    {
     "name": "stdout",
     "output_type": "stream",
     "text": [
      "[[ 11.718015     0.66503817]\n",
      " [ 11.531958     0.69274753]\n",
      " [  2.563981     6.4405856 ]\n",
      " [  4.3141127    3.430251  ]\n",
      " [  4.4991493    3.1837375 ]\n",
      " [  3.2876081    3.783046  ]\n",
      " [  2.7915976    9.71054   ]\n",
      " [  2.5856729    6.8547697 ]\n",
      " [ -5.4859204    0.6917326 ]\n",
      " [  5.00378     10.641399  ]\n",
      " [  1.5493505    1.2252313 ]\n",
      " [  4.251529     5.9128804 ]\n",
      " [ -1.5230558   -8.300348  ]\n",
      " [  2.4281695    1.7587272 ]\n",
      " [  1.0259895    2.0517123 ]\n",
      " [  3.1447496   -6.9436245 ]\n",
      " [  0.56841475   7.0239983 ]\n",
      " [  8.408618    -5.1815243 ]\n",
      " [ 11.6981325    0.8588398 ]\n",
      " [  4.972702     0.4867898 ]\n",
      " [  1.9985602    4.0185995 ]\n",
      " [  3.5160394    4.266718  ]\n",
      " [  6.1753225    2.7810538 ]\n",
      " [-11.288199    -6.180154  ]\n",
      " [  0.1899995    1.6618286 ]\n",
      " [-11.207762    -6.095641  ]\n",
      " [ -0.7131985   -7.122996  ]\n",
      " [  5.4147696    3.5863926 ]\n",
      " [ -2.99153     -3.6171725 ]\n",
      " [  8.833291    -1.9017802 ]\n",
      " [  8.831023    -1.9126663 ]\n",
      " [ -4.1405935   -1.4244984 ]\n",
      " [ -4.562459     6.641807  ]\n",
      " [ -0.48581868   4.59663   ]\n",
      " [  5.923222    -1.3475119 ]\n",
      " [ -5.2892127    4.5645657 ]\n",
      " [ -7.7845745    3.5777595 ]\n",
      " [  1.9275188    8.886398  ]\n",
      " [  5.3604226    5.284189  ]\n",
      " [ -2.7760255    5.761404  ]\n",
      " [ -3.8455324    4.105559  ]\n",
      " [ -8.57299      5.0192914 ]\n",
      " [  1.1407608   -7.147967  ]\n",
      " [  3.7791994    9.38801   ]\n",
      " [  0.40330288   4.992769  ]\n",
      " [  7.024654     8.612403  ]\n",
      " [  2.4976828   -2.2014318 ]\n",
      " [ -0.13586144   0.06926705]\n",
      " [ -7.1902227    1.4896163 ]\n",
      " [ -2.2822974    2.775097  ]\n",
      " [  1.242589    -0.04959722]\n",
      " [  4.469306   -10.449836  ]\n",
      " [ -3.1062348   -3.7644668 ]\n",
      " [ -3.8507082   10.439738  ]\n",
      " [  9.496414     7.1157594 ]\n",
      " [ -5.836194     3.7306426 ]\n",
      " [  7.425059    -5.416273  ]\n",
      " [ -4.218526    -0.9205273 ]\n",
      " [ -0.50805944  -3.2094285 ]\n",
      " [ -3.2317104    8.38638   ]\n",
      " [  0.5283289   -6.6073933 ]\n",
      " [  3.5303168   -4.186689  ]\n",
      " [ -2.1383998   10.308912  ]\n",
      " [ -6.465709    -6.2607207 ]\n",
      " [  6.898824     5.9780126 ]\n",
      " [  4.473975   -10.451088  ]\n",
      " [ -5.400102    -0.35862792]\n",
      " [  9.788968     6.267837  ]\n",
      " [ -3.8344514    1.8256947 ]\n",
      " [ -0.30778277   1.022443  ]\n",
      " [  6.3058205    4.658353  ]\n",
      " [ -0.27694213 -10.713422  ]\n",
      " [ -6.732155    -0.08843741]\n",
      " [  2.1264322    5.2201195 ]\n",
      " [  0.5377791    3.3073094 ]\n",
      " [ -0.9752681   -5.93374   ]\n",
      " [  1.6043531   -3.3087103 ]\n",
      " [ -3.9610052    4.2847114 ]\n",
      " [ -8.997928    -2.7351418 ]\n",
      " [ -5.826322     4.704387  ]\n",
      " [ -6.375315     6.2084284 ]\n",
      " [ -3.8507717   -2.4721763 ]\n",
      " [ -0.38036555  -7.9869204 ]\n",
      " [ -2.1926997   -6.934628  ]\n",
      " [  2.13784      3.2895646 ]\n",
      " [ -2.9085567   -1.9330915 ]\n",
      " [  2.113561    -6.689507  ]\n",
      " [ -2.1570117   10.390473  ]\n",
      " [ -1.0590459    1.1162138 ]\n",
      " [ -5.4488516   -0.29312497]\n",
      " [ -3.7245913   -5.113687  ]\n",
      " [ -7.221715     4.621157  ]\n",
      " [  7.671692     0.35154974]\n",
      " [  2.046156    -4.928577  ]\n",
      " [ -6.217567    -0.9916137 ]\n",
      " [ -2.1640284    6.9609957 ]\n",
      " [ -4.988125     8.448626  ]\n",
      " [  4.33729     -2.9151866 ]\n",
      " [  8.772356     8.618406  ]\n",
      " [  0.08712524   0.8452508 ]\n",
      " [  1.7657462    4.2456126 ]\n",
      " [ -0.53562385  -3.0006652 ]\n",
      " [ -1.4832486    8.452681  ]\n",
      " [  3.9449713    7.6184516 ]\n",
      " [ -1.4662216    4.5892205 ]\n",
      " [ -2.6704757    0.37895393]\n",
      " [  1.3517952    6.427291  ]\n",
      " [ -2.6722937    0.0455915 ]\n",
      " [  7.38073      6.598501  ]\n",
      " [ -2.866204     4.355483  ]\n",
      " [ 13.166203     0.98986757]\n",
      " [ 12.819318    -0.19073296]\n",
      " [  0.5261442   -0.751428  ]\n",
      " [ -0.6600329   -0.23445155]\n",
      " [-11.43336     -6.545009  ]\n",
      " [ -4.0819726    1.673673  ]\n",
      " [ 11.687863     0.8672716 ]\n",
      " [  7.5533977    5.37482   ]\n",
      " [ -1.1183999   -5.6670403 ]\n",
      " [-11.416242    -1.3936478 ]\n",
      " [-11.395456    -1.3945147 ]\n",
      " [  7.712551    -8.888872  ]\n",
      " [-11.410849    -6.489234  ]\n",
      " [  1.2324907    8.743016  ]\n",
      " [ -2.9378195    7.9894414 ]\n",
      " [  2.494798    -0.43701783]\n",
      " [ -7.6287293    4.483409  ]\n",
      " [  7.4005923    0.76007944]\n",
      " [ -4.856012    -3.0149753 ]\n",
      " [  1.1591064   -8.56427   ]\n",
      " [ 12.763131     2.6128876 ]\n",
      " [ 10.185498     1.7557441 ]\n",
      " [ -9.389231     0.9842674 ]\n",
      " [  4.3790846    5.6308994 ]\n",
      " [  4.9533606   -4.4220924 ]\n",
      " [  3.036129     0.32337856]\n",
      " [ -7.965383     8.213053  ]\n",
      " [ -1.2926214   -4.8695846 ]\n",
      " [  7.867381     3.320785  ]\n",
      " [ -5.7008247   -3.4564745 ]\n",
      " [ 10.204659     7.570857  ]\n",
      " [  2.083452    10.972392  ]\n",
      " [ -0.28231713 -10.742427  ]\n",
      " [  3.618537    -4.2668285 ]\n",
      " [ 12.760026    -3.7128294 ]\n",
      " [  5.3852525    1.8385854 ]\n",
      " [ -1.6874565   -2.721856  ]\n",
      " [ -0.5683255    2.8254359 ]\n",
      " [ 11.268135    -0.5969045 ]\n",
      " [ -3.6845746    6.580211  ]\n",
      " [ -1.8863332    2.15533   ]\n",
      " [ -5.2022204   -1.1616491 ]\n",
      " [ 12.761098    -3.7313573 ]\n",
      " [ -0.9478677   -3.7495594 ]\n",
      " [ -0.0606959   -4.861715  ]\n",
      " [ -1.9519551    6.8116727 ]\n",
      " [  4.6178718    4.096025  ]\n",
      " [ -2.7266853   -5.759916  ]\n",
      " [ -2.0128374   -7.657837  ]\n",
      " [  8.470842    10.08394   ]\n",
      " [  8.375823     7.3114524 ]\n",
      " [  8.86727     -0.8610335 ]\n",
      " [  1.422857    -1.6163176 ]\n",
      " [ -3.6071227    6.3330126 ]\n",
      " [ -0.20122197  -5.5607114 ]\n",
      " [  7.703823    -8.880776  ]\n",
      " [-12.6178      -3.6016219 ]\n",
      " [ -2.8560848   -8.841649  ]\n",
      " [  2.6452522   11.938149  ]\n",
      " [  7.0187407    3.961031  ]\n",
      " [ -0.41840217   2.9291337 ]\n",
      " [ 10.65932      2.8870735 ]\n",
      " [ -6.0106072   -7.9316907 ]\n",
      " [  0.14925466   1.7500486 ]\n",
      " [  0.61618423  -1.7357131 ]\n",
      " [  7.488906     5.582572  ]\n",
      " [  1.9478297    2.7170448 ]\n",
      " [ -2.4308655   -0.45719445]\n",
      " [  0.21945626  -4.262689  ]\n",
      " [  2.6217132    9.332325  ]\n",
      " [ -0.721762    -1.5922662 ]\n",
      " [  1.0439314   -3.1881545 ]\n",
      " [ -2.5012794   -5.9316134 ]\n",
      " [  4.1058793    2.0230305 ]\n",
      " [  3.2877743    2.4269326 ]\n",
      " [ -3.8334236   -6.7453046 ]\n",
      " [  7.6240993   -5.359466  ]\n",
      " [ -3.1979783    8.027835  ]\n",
      " [  0.5068194   10.002141  ]\n",
      " [  2.5249052    5.755348  ]\n",
      " [ 11.513839     0.7115323 ]\n",
      " [  6.977027     6.4441347 ]\n",
      " [ -2.155647    -4.408307  ]\n",
      " [-12.689423    -3.4844122 ]\n",
      " [ 10.106707     6.0641913 ]\n",
      " [ -3.0962214   -8.298717  ]\n",
      " [  5.226564     7.77654   ]\n",
      " [ -2.9511638   -4.595451  ]\n",
      " [  4.1248736   -0.8976987 ]\n",
      " [ -6.3874745   -6.3851295 ]]\n"
     ]
    }
   ],
   "source": [
    "print(x_tsne)"
   ]
  },
  {
   "cell_type": "code",
   "execution_count": 47,
   "metadata": {},
   "outputs": [],
   "source": [
    "def plt_with_scatter(data,label,title):\n",
    "    x_min, x_max = np.min(data, 0), np.max(data, 0)\n",
    "    data = (data - x_min) / (x_max - x_min)\n",
    "    #歸一化\n",
    "    fig = plt.figure(figsize=(8, 8))\n",
    "    for i in range(len(data)):\n",
    "        plt.text(data[i,0],data[i,1],str(label[i]), fontdict = {'weight':'light', 'size':'medium'})\n",
    "    plt.xticks([])\n",
    "    plt.yticks([])\n",
    "    plt.title(title)\n",
    "    return fig\n",
    "#參考 : https://www.deeplearn.me/2137.html"
   ]
  },
  {
   "cell_type": "code",
   "execution_count": 48,
   "metadata": {},
   "outputs": [
    {
     "name": "stdout",
     "output_type": "stream",
     "text": [
      "['<unk>', '<pad>', 'the']\n"
     ]
    }
   ],
   "source": [
    "print(vocab.itos[:3])"
   ]
  },
  {
   "cell_type": "code",
   "execution_count": 54,
   "metadata": {},
   "outputs": [
    {
     "data": {
      "image/png": "[encoded data removed]",
      "text/plain": [
       "<Figure size 576x576 with 1 Axes>"
      ]
     },
     "metadata": {},
     "output_type": "display_data"
    }
   ],
   "source": [
    "import matplotlib.pyplot as plt\n",
    "fig = plt_with_scatter(x_tsne,vocab.itos[:200], 'tSNE')\n",
    "plt.show(fig)"
   ]
  },
  {
   "cell_type": "code",
   "execution_count": null,
   "metadata": {},
   "outputs": [],
   "source": []
  }
 ],
 "metadata": {
  "kernelspec": {
   "display_name": "Python 3",
   "language": "python",
   "name": "python3"
  },
  "language_info": {
   "codemirror_mode": {
    "name": "ipython",
    "version": 3
   },
   "file_extension": ".py",
   "mimetype": "text/x-python",
   "name": "python",
   "nbconvert_exporter": "python",
   "pygments_lexer": "ipython3",
   "version": "3.6.7"
  }
 },
 "nbformat": 4,
 "nbformat_minor": 4
}
