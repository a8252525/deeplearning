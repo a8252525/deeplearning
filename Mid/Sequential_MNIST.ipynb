{
 "cells": [
  {
   "cell_type": "code",
   "execution_count": 1,
   "metadata": {},
   "outputs": [
    {
     "data": {
      "text/plain": [
       "'2.0.0'"
      ]
     },
     "execution_count": 1,
     "metadata": {},
     "output_type": "execute_result"
    }
   ],
   "source": [
    "import tensorflow as tf\n",
    "from PIL import Image\n",
    "tf.__version__"
   ]
  },
  {
   "cell_type": "code",
   "execution_count": 21,
   "metadata": {},
   "outputs": [],
   "source": [
    "### from __future__ import print_function\n",
    "\n",
    "from tensorflow.keras.layers import Dense, Conv2D, BatchNormalization, Activation\n",
    "from tensorflow.keras.layers import AveragePooling2D, Input, Flatten, MaxPooling2D, Dropout\n",
    "from tensorflow.keras.optimizers import Adam\n",
    "from tensorflow.keras.callbacks import ModelCheckpoint, LearningRateScheduler\n",
    "from tensorflow.keras.callbacks import ReduceLROnPlateau\n",
    "from tensorflow.keras.preprocessing.image import ImageDataGenerator\n",
    "from tensorflow.keras.regularizers import l2\n",
    "from tensorflow.keras import backend as K\n",
    "from tensorflow.keras.models import Model\n",
    "from tensorflow.keras.datasets import cifar10\n",
    "from tensorflow.keras.models import Sequential\n",
    "import numpy as np\n",
    "import pandas as pd\n",
    "import os"
   ]
  },
  {
   "cell_type": "code",
   "execution_count": 3,
   "metadata": {},
   "outputs": [
    {
     "name": "stdout",
     "output_type": "stream",
     "text": [
      "(18225, 28, 28) (18225,)\n",
      "(4563, 28, 28) (4563,)\n"
     ]
    }
   ],
   "source": [
    "from mnist_decode import decode_idx3_ubyte,decode_idx1_ubyte\n",
    "\n",
    "x_train = decode_idx3_ubyte('./input/coic/train-images-idx3-ubyte')\n",
    "y_train = decode_idx1_ubyte('./input/coic/train-labels-idx1-ubyte')\n",
    "print(x_train.shape,y_train.shape)\n",
    "x_test = decode_idx3_ubyte('./input/coic/test-images-idx3-ubyte')\n",
    "y_test = decode_idx1_ubyte('./input/coic/test-labels-idx1-ubyte')\n",
    "print(x_test.shape,y_test.shape)"
   ]
  },
  {
   "cell_type": "code",
   "execution_count": 4,
   "metadata": {},
   "outputs": [
    {
     "name": "stdout",
     "output_type": "stream",
     "text": [
      "(4563, 1, 28, 28) (4563, 10)\n"
     ]
    },
    {
     "name": "stderr",
     "output_type": "stream",
     "text": [
      "Using TensorFlow backend.\n"
     ]
    }
   ],
   "source": [
    "from keras.utils import np_utils\n",
    "x_train = x_train.reshape(x_train.shape[0], 1, 28, 28).astype('float32')\n",
    "x_test = x_test.reshape(x_test.shape[0], 1, 28, 28).astype('float32')\n",
    "x_train = x_train/255\n",
    "x_test = x_test/255\n",
    "y_train = np_utils.to_categorical(y_train)\n",
    "y_test = np_utils.to_categorical(y_test)\n",
    "print(x_test.shape,y_test.shape)"
   ]
  },
  {
   "cell_type": "code",
   "execution_count": 5,
   "metadata": {},
   "outputs": [
    {
     "data": {
      "text/plain": [
       "<TensorSliceDataset shapes: ((1, 28, 28), (10,)), types: (tf.float32, tf.float32)>"
      ]
     },
     "execution_count": 5,
     "metadata": {},
     "output_type": "execute_result"
    }
   ],
   "source": [
    "\n",
    "train_ds = tf.data.Dataset.from_tensor_slices((x_train, y_train))\n",
    "train_ds\n"
   ]
  },
  {
   "cell_type": "code",
   "execution_count": 6,
   "metadata": {},
   "outputs": [
    {
     "data": {
      "text/plain": [
       "<BatchDataset shapes: ((None, 1, 28, 28), (None, 10)), types: (tf.float32, tf.float32)>"
      ]
     },
     "execution_count": 6,
     "metadata": {},
     "output_type": "execute_result"
    }
   ],
   "source": [
    "\n",
    "train_ds = train_ds.shuffle(10000).batch(32)\n",
    "# suffle表示隨機選取,並分為32batch\n",
    "train_ds\n"
   ]
  },
  {
   "cell_type": "code",
   "execution_count": 7,
   "metadata": {},
   "outputs": [],
   "source": [
    "\n",
    "test_ds = tf.data.Dataset.from_tensor_slices((x_test, y_test))\n",
    "test_ds = test_ds.shuffle(10000).batch(32)\n"
   ]
  },
  {
   "cell_type": "code",
   "execution_count": 8,
   "metadata": {},
   "outputs": [],
   "source": [
    "num_classes = y_test.shape[1]\n",
    "model = Sequential()\n",
    "model.add(Conv2D(32, (5, 5), input_shape=(1, 28, 28), activation='relu',data_format='channels_first'))\n",
    "model.add(MaxPooling2D(pool_size=(2, 2)))\n",
    "model.add(Dropout(0.2))\n",
    "model.add(Flatten())\n",
    "model.add(Dense(128, activation='relu'))\n",
    "model.add(Dense(num_classes, activation='softmax'))\n",
    "# Compile model\n",
    "model.compile(loss='categorical_crossentropy', optimizer='adam', metrics=['accuracy'])\n"
   ]
  },
  {
   "cell_type": "code",
   "execution_count": 10,
   "metadata": {},
   "outputs": [
    {
     "name": "stdout",
     "output_type": "stream",
     "text": [
      "Train on 4563 samples, validate on 4563 samples\n",
      "Epoch 1/30\n",
      "4563/4563 [==============================] - 0s 59us/sample - loss: 0.0313 - accuracy: 0.9888 - val_loss: 0.0116 - val_accuracy: 0.9958\n",
      "Epoch 2/30\n",
      "4563/4563 [==============================] - 0s 56us/sample - loss: 0.0173 - accuracy: 0.9939 - val_loss: 0.0075 - val_accuracy: 0.9980\n",
      "Epoch 3/30\n",
      "4563/4563 [==============================] - 0s 57us/sample - loss: 0.0075 - accuracy: 0.9978 - val_loss: 0.0037 - val_accuracy: 0.9998\n",
      "Epoch 4/30\n",
      "4563/4563 [==============================] - 0s 57us/sample - loss: 0.0059 - accuracy: 0.9991 - val_loss: 0.0032 - val_accuracy: 0.9998\n",
      "Epoch 5/30\n",
      "4563/4563 [==============================] - 0s 56us/sample - loss: 0.0034 - accuracy: 1.0000 - val_loss: 0.0018 - val_accuracy: 1.0000\n",
      "Epoch 6/30\n",
      "4563/4563 [==============================] - 0s 58us/sample - loss: 0.0028 - accuracy: 1.0000 - val_loss: 0.0016 - val_accuracy: 1.0000\n",
      "Epoch 7/30\n",
      "4563/4563 [==============================] - 0s 56us/sample - loss: 0.0024 - accuracy: 0.9998 - val_loss: 0.0011 - val_accuracy: 1.0000\n",
      "Epoch 8/30\n",
      "4563/4563 [==============================] - 0s 58us/sample - loss: 0.0019 - accuracy: 1.0000 - val_loss: 9.7325e-04 - val_accuracy: 1.0000\n",
      "Epoch 9/30\n",
      "4563/4563 [==============================] - 0s 52us/sample - loss: 0.0020 - accuracy: 0.9998 - val_loss: 8.7306e-04 - val_accuracy: 1.0000\n",
      "Epoch 10/30\n",
      "4563/4563 [==============================] - 0s 55us/sample - loss: 0.0021 - accuracy: 1.0000 - val_loss: 9.4282e-04 - val_accuracy: 1.0000\n",
      "Epoch 11/30\n",
      "4563/4563 [==============================] - 0s 56us/sample - loss: 0.0014 - accuracy: 1.0000 - val_loss: 6.6942e-04 - val_accuracy: 1.0000\n",
      "Epoch 12/30\n",
      "4563/4563 [==============================] - 0s 55us/sample - loss: 0.0013 - accuracy: 1.0000 - val_loss: 5.8152e-04 - val_accuracy: 1.0000\n",
      "Epoch 13/30\n",
      "4563/4563 [==============================] - 0s 53us/sample - loss: 0.0013 - accuracy: 1.0000 - val_loss: 5.0606e-04 - val_accuracy: 1.0000\n",
      "Epoch 14/30\n",
      "4563/4563 [==============================] - 0s 56us/sample - loss: 9.9075e-04 - accuracy: 1.0000 - val_loss: 4.7965e-04 - val_accuracy: 1.0000\n",
      "Epoch 15/30\n",
      "4563/4563 [==============================] - 0s 56us/sample - loss: 8.8049e-04 - accuracy: 1.0000 - val_loss: 4.3541e-04 - val_accuracy: 1.0000\n",
      "Epoch 16/30\n",
      "4563/4563 [==============================] - 0s 57us/sample - loss: 0.0011 - accuracy: 1.0000 - val_loss: 4.1123e-04 - val_accuracy: 1.0000\n",
      "Epoch 17/30\n",
      "4563/4563 [==============================] - 0s 55us/sample - loss: 7.9480e-04 - accuracy: 1.0000 - val_loss: 3.9251e-04 - val_accuracy: 1.0000\n",
      "Epoch 18/30\n",
      "4563/4563 [==============================] - 0s 56us/sample - loss: 8.0015e-04 - accuracy: 1.0000 - val_loss: 3.6054e-04 - val_accuracy: 1.0000\n",
      "Epoch 19/30\n",
      "4563/4563 [==============================] - 0s 55us/sample - loss: 6.3244e-04 - accuracy: 1.0000 - val_loss: 3.3109e-04 - val_accuracy: 1.0000\n",
      "Epoch 20/30\n",
      "4563/4563 [==============================] - 0s 55us/sample - loss: 7.5251e-04 - accuracy: 1.0000 - val_loss: 3.1387e-04 - val_accuracy: 1.0000\n",
      "Epoch 21/30\n",
      "4563/4563 [==============================] - 0s 53us/sample - loss: 5.7713e-04 - accuracy: 1.0000 - val_loss: 2.9046e-04 - val_accuracy: 1.0000\n",
      "Epoch 22/30\n",
      "4563/4563 [==============================] - 0s 54us/sample - loss: 5.4765e-04 - accuracy: 1.0000 - val_loss: 2.6953e-04 - val_accuracy: 1.0000\n",
      "Epoch 23/30\n",
      "4563/4563 [==============================] - 0s 54us/sample - loss: 5.3938e-04 - accuracy: 1.0000 - val_loss: 2.4986e-04 - val_accuracy: 1.0000\n",
      "Epoch 24/30\n",
      "4563/4563 [==============================] - 0s 57us/sample - loss: 6.1344e-04 - accuracy: 1.0000 - val_loss: 2.7271e-04 - val_accuracy: 1.0000\n",
      "Epoch 25/30\n",
      "4563/4563 [==============================] - 0s 58us/sample - loss: 6.0119e-04 - accuracy: 1.0000 - val_loss: 2.3391e-04 - val_accuracy: 1.0000\n",
      "Epoch 26/30\n",
      "4563/4563 [==============================] - 0s 58us/sample - loss: 4.8714e-04 - accuracy: 1.0000 - val_loss: 2.1571e-04 - val_accuracy: 1.0000\n",
      "Epoch 27/30\n",
      "4563/4563 [==============================] - 0s 66us/sample - loss: 6.4749e-04 - accuracy: 1.0000 - val_loss: 3.7940e-04 - val_accuracy: 1.0000\n",
      "Epoch 28/30\n",
      "4563/4563 [==============================] - 0s 58us/sample - loss: 7.0808e-04 - accuracy: 0.9998 - val_loss: 2.6621e-04 - val_accuracy: 1.0000\n",
      "Epoch 29/30\n",
      "4563/4563 [==============================] - 0s 56us/sample - loss: 6.0390e-04 - accuracy: 1.0000 - val_loss: 1.9992e-04 - val_accuracy: 1.0000\n",
      "Epoch 30/30\n",
      "4563/4563 [==============================] - 0s 58us/sample - loss: 4.4353e-04 - accuracy: 1.0000 - val_loss: 1.9591e-04 - val_accuracy: 1.0000\n"
     ]
    },
    {
     "data": {
      "text/plain": [
       "<tensorflow.python.keras.callbacks.History at 0x7fa3abba30f0>"
      ]
     },
     "execution_count": 10,
     "metadata": {},
     "output_type": "execute_result"
    }
   ],
   "source": [
    "\n",
    "# Fit the model\n",
    "model.fit(x_test, y_test, validation_data=(x_test, y_test), epochs=30, batch_size=200)\n"
   ]
  },
  {
   "cell_type": "code",
   "execution_count": 26,
   "metadata": {},
   "outputs": [],
   "source": [
    "x_final_test = decode_idx3_ubyte('./input/coic/final-test-images-idx3-ubyte')\n",
    "x_final_test = x_final_test.reshape(x_final_test.shape[0], 1, 28, 28).astype('float32')\n",
    "x_final_test = x_final_test/255\n",
    "ans=model.predict(x_final_test)"
   ]
  },
  {
   "cell_type": "code",
   "execution_count": 35,
   "metadata": {},
   "outputs": [],
   "source": [
    "tmp = []\n",
    "l=[]\n",
    "for i,pre in enumerate(ans):\n",
    "    l = [i+1,pre.argmax()]\n",
    "    tmp.append(l)"
   ]
  },
  {
   "cell_type": "code",
   "execution_count": 36,
   "metadata": {},
   "outputs": [
    {
     "name": "stdout",
     "output_type": "stream",
     "text": [
      "         0  1\n",
      "0        1  2\n",
      "1        2  7\n",
      "2        3  2\n",
      "3        4  2\n",
      "4        5  1\n",
      "5        6  3\n",
      "6        7  6\n",
      "7        8  4\n",
      "8        9  7\n",
      "9       10  1\n",
      "10      11  3\n",
      "11      12  4\n",
      "12      13  6\n",
      "13      14  3\n",
      "14      15  2\n",
      "15      16  9\n",
      "16      17  7\n",
      "17      18  3\n",
      "18      19  9\n",
      "19      20  4\n",
      "20      21  9\n",
      "21      22  3\n",
      "22      23  2\n",
      "23      24  0\n",
      "24      25  3\n",
      "25      26  9\n",
      "26      27  7\n",
      "27      28  2\n",
      "28      29  9\n",
      "29      30  0\n",
      "...    ... ..\n",
      "4533  4534  7\n",
      "4534  4535  7\n",
      "4535  4536  1\n",
      "4536  4537  3\n",
      "4537  4538  7\n",
      "4538  4539  0\n",
      "4539  4540  4\n",
      "4540  4541  4\n",
      "4541  4542  8\n",
      "4542  4543  3\n",
      "4543  4544  2\n",
      "4544  4545  3\n",
      "4545  4546  7\n",
      "4546  4547  9\n",
      "4547  4548  0\n",
      "4548  4549  8\n",
      "4549  4550  3\n",
      "4550  4551  1\n",
      "4551  4552  0\n",
      "4552  4553  9\n",
      "4553  4554  6\n",
      "4554  4555  3\n",
      "4555  4556  2\n",
      "4556  4557  7\n",
      "4557  4558  1\n",
      "4558  4559  0\n",
      "4559  4560  2\n",
      "4560  4561  8\n",
      "4561  4562  0\n",
      "4562  4563  0\n",
      "\n",
      "[4563 rows x 2 columns]\n"
     ]
    }
   ],
   "source": [
    "print(pd.DataFrame(tmp))"
   ]
  },
  {
   "cell_type": "code",
   "execution_count": 37,
   "metadata": {},
   "outputs": [],
   "source": [
    "sub =  pd.DataFrame(tmp)\n",
    "sub = sub.rename(index=str, columns={0: \"id\", 1: \"Class\"})\n",
    "sub.to_csv('submission1.csv', index=False)"
   ]
  },
  {
   "cell_type": "code",
   "execution_count": null,
   "metadata": {},
   "outputs": [],
   "source": []
  }
 ],
 "metadata": {
  "kernelspec": {
   "display_name": "Python 3",
   "language": "python",
   "name": "python3"
  },
  "language_info": {
   "codemirror_mode": {
    "name": "ipython",
    "version": 3
   },
   "file_extension": ".py",
   "mimetype": "text/x-python",
   "name": "python",
   "nbconvert_exporter": "python",
   "pygments_lexer": "ipython3",
   "version": "3.6.7"
  }
 },
 "nbformat": 4,
 "nbformat_minor": 4
}
