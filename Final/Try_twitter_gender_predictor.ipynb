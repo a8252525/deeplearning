{
 "cells": [
  {
   "cell_type": "code",
   "execution_count": 33,
   "metadata": {},
   "outputs": [
    {
     "name": "stdout",
     "output_type": "stream",
     "text": [
      "['male' 'male']\n"
     ]
    }
   ],
   "source": [
    "# from:https://github.com/jpovmarques/twitter-gender-predictor\n",
    "from nlp.__main__ import load_data, get_classifier, get_gender\n",
    "tweet_message = [\"Short story: I was in Amsterdam & I was gifted this doll by a very sweet woman “Ellen Brudet”…\", \"Short story: I was in Amsterdam & I was gifted this doll by a very sweet woman “Ellen Brudet”…\"]\n",
    "data, target = load_data()\n",
    "classifier = get_classifier(data, target)\n",
    "gender = get_gender(tweet_message, classifier)\n",
    "\n",
    "print(gender)\n",
    "# male"
   ]
  },
  {
   "cell_type": "code",
   "execution_count": 34,
   "metadata": {},
   "outputs": [
    {
     "name": "stdout",
     "output_type": "stream",
     "text": [
      "<_csv.reader object at 0x7fe90663dac8>\n",
      "['male', 'male', 'male', 'male', 'female']\n",
      "['Robbie E Responds To Critics After Win Against Eddie Edwards In The #WorldTitleSeries https://t.co/NSybBmVjKZ', '���It felt like they were my friends and I was living the story with them�\\u06dd https://t.co/arngE0YHNO #retired #IAN1 https://t.co/CIzCANPQFz', 'i absolutely adore when louis starts the songs it hits me hard but it feels good', \"Hi @JordanSpieth - Looking at the url - do you use @IFTTT?!  Don't typically see an advanced user on the @PGATOUR! https://t.co/H68ou5PE9L\", 'Watching Neighbours on Sky+ catching up with the Neighbs!! Xxx _���_���_���_���_ُ�_�ԍ_ُ� Xxx']\n"
     ]
    }
   ],
   "source": [
    "import csv\n",
    "import numpy as np\n",
    "import pandas as pd\n",
    "target = []\n",
    "data = []\n",
    "rows = []\n",
    "with open ('../deepFinal_data/gender-classifier-data.csv', newline='') as d:\n",
    "    rows = csv.reader(d)\n",
    "    print(rows)\n",
    "    #print(list (rows)[1:6])\n",
    "    for row in rows:\n",
    "        data.append(row[3])\n",
    "        target.append(row[0])\n",
    "    target.pop(0)\n",
    "    data.pop(0)"
   ]
  },
  {
   "cell_type": "code",
   "execution_count": 36,
   "metadata": {},
   "outputs": [
    {
     "name": "stdout",
     "output_type": "stream",
     "text": [
      "accuracy: 0.8508\n"
     ]
    }
   ],
   "source": [
    "gender = get_gender(data, classifier)\n",
    "target = np.array(target)\n",
    "count = 0\n",
    "\n",
    "for i in range(len(gender)):\n",
    "    if gender[i] == 'brand':\n",
    "        gender[i] = 'female'\n",
    "    if gender[i] == target[i]:\n",
    "        count+=1\n",
    "accuracy = count/len(gender)\n",
    "print('accuracy:' , accuracy)"
   ]
  },
  {
   "cell_type": "code",
   "execution_count": 48,
   "metadata": {},
   "outputs": [
    {
     "name": "stdout",
     "output_type": "stream",
     "text": [
      "When you walk into a store and they have your favorite hats.....mom send��_ https://t.co/ZCxy9DJlNf\n",
      "['When you walk into a store and they have your favorite hats.....mom send��_ https://t.co/ZCxy9DJlNf', \"It's mild for eastern Newfoundland now but that changes big time tonight! Details on @NTVNewsNL btwn 6 and 7 #NLwx https://t.co/n18YvBOv16\", \"I have to go to the airport straight from work and I'm not for the traffic _��\", \"I don't come from influence. It's some shit a real niggas that go through shit and keep silent wit a good heart. All it take is that push.\", 'Doctors and lawyers: Computers are coming for your jobs, too - https://t.co/CH2BcXP5xl']\n",
      "2894\n"
     ]
    }
   ],
   "source": [
    "test = []\n",
    "with open('../deepFinal_data/gender-classifier-test.csv', newline='') as t :\n",
    "    rows = csv.reader(t)\n",
    "    next(rows,None)\n",
    "    for row in rows:\n",
    "        test.append(row[3])\n",
    "    print(test[0])\n",
    "    print(test[:5])\n",
    "print(len(test))"
   ]
  },
  {
   "cell_type": "code",
   "execution_count": 49,
   "metadata": {},
   "outputs": [
    {
     "name": "stdout",
     "output_type": "stream",
     "text": [
      "['female' 'male' 'female' 'male' 'male']\n",
      "[[1, 0], [2, 1], [3, 0], [4, 1], [5, 1]]\n"
     ]
    }
   ],
   "source": [
    "predict = get_gender(test, classifier)\n",
    "ans = []\n",
    "for i,j in enumerate(predict):\n",
    "    if j == 'female' or j == 'brand':\n",
    "        ans.append([i+1,0])\n",
    "    else:\n",
    "        ans.append([i+1,1])\n",
    "print(predict[:5])\n",
    "print(ans[:5])"
   ]
  },
  {
   "cell_type": "code",
   "execution_count": 50,
   "metadata": {},
   "outputs": [
    {
     "name": "stdout",
     "output_type": "stream",
     "text": [
      "   no.  gender\n",
      "0    1       0\n",
      "1    2       1\n",
      "2    3       0\n",
      "3    4       1\n",
      "4    5       1\n"
     ]
    }
   ],
   "source": [
    "import pandas as pd\n",
    "ans_tmp = pd.DataFrame(ans)\n",
    "ans_tmp = ans_tmp.rename(index = str, columns = {0:'no.', 1:'gender'})\n",
    "print(ans_tmp[:5])\n",
    "ans_tmp.to_csv('sub.csv', index = False)\n"
   ]
  },
  {
   "cell_type": "code",
   "execution_count": null,
   "metadata": {},
   "outputs": [],
   "source": []
  }
 ],
 "metadata": {
  "kernelspec": {
   "display_name": "Python 3",
   "language": "python",
   "name": "python3"
  },
  "language_info": {
   "codemirror_mode": {
    "name": "ipython",
    "version": 3
   },
   "file_extension": ".py",
   "mimetype": "text/x-python",
   "name": "python",
   "nbconvert_exporter": "python",
   "pygments_lexer": "ipython3",
   "version": "3.6.7"
  }
 },
 "nbformat": 4,
 "nbformat_minor": 4
}
